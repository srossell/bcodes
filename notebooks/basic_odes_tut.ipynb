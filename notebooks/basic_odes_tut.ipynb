{
 "cells": [
  {
   "cell_type": "markdown",
   "metadata": {},
   "source": [
    "# Basic integration of ODEs tutorial\n",
    "\n",
    "This is a tutorial showing how to integreate ODEs using a handful of functions I placed in a module called \"bcodes\", for Biochemical ODEs. In this tutorial I use bcodes to create the inputs for scipy's solve_ivp API, which performs the integration of the ODEs.\n",
    "\n",
    "A simple system of ODEs is used for illustration. The model consist of two dynamic mass balances, one for glucose and the other for biomass dry weight. \n",
    "\n",
    "$\\dot{glc} = - q_{glc} \\cdot X$\n",
    "\n",
    "$\\dot{X} = q_{glc} \\cdot Y_{xs} \\cdot X $\n",
    "\n",
    "Where\n",
    "\n",
    "$q_{glc} = \\frac{q_{glc}^{max} \\cdot \\frac{n_{glc}}{bw}}{Km_{q\\_glc} + \\frac{n_{glc}}{bw}}$ \n",
    "\n",
    "## Parameters\n",
    "\n",
    "The parameters are taken from bakers yeast growing aerobically on glucose. \n",
    "\n",
    "| Parameter | Units | Value | Comment |\n",
    "|---|---|---|---|\n",
    "|$Y_{xs}$ | $\\frac{mmol_{glc}}{gDW}$ | 0.09 | Calculated from 0.5 g/g|\n",
    "| $Km_{q\\_glc}$ | mmol/kg | 1 | |\n",
    "| $q_{glc}^{max}$ | mmol / (gDW h) | 3.89 | yields a $\\mu^{max} = 0.35 h^{-1}$ |\n",
    "| bw | kg | 1 | broth weight (fixed) |\n",
    "\n"
   ]
  },
  {
   "cell_type": "code",
   "execution_count": null,
   "metadata": {},
   "outputs": [],
   "source": [
    "import os\n",
    "import sys\n",
    "root_path = os.path.split(os.getcwd())[0]\n",
    "if root_path not in sys.path:\n",
    "    sys.path.append(root_path)\n",
    "    \n",
    "from scipy.integrate import solve_ivp\n",
    "import matplotlib.pyplot as plt\n",
    "import numpy as np\n",
    "\n",
    "%matplotlib inline"
   ]
  },
  {
   "cell_type": "code",
   "execution_count": null,
   "metadata": {},
   "outputs": [],
   "source": [
    "from ratevector import create_rate_vector\n",
    "from stoichiometrymatrix import build_stoichiometry_matrix"
   ]
  },
  {
   "cell_type": "markdown",
   "metadata": {},
   "source": [
    "# Model components"
   ]
  },
  {
   "cell_type": "code",
   "execution_count": null,
   "metadata": {},
   "outputs": [],
   "source": [
    "id_sp = [\n",
    "        'glc',  # mmol\n",
    "        'dw'  # g DW\n",
    "        ]\n",
    "\n",
    "id_rs = [\n",
    "        'v_glc',  # mmol/h  # glucose consumption rate (q_glc * dw)\n",
    "        ]\n",
    "\n",
    "rates = {\n",
    "        'v_glc': 'dw * q_max_glc * (glc/bw) / (Km_q_glc + (glc/bw))',\n",
    "        }\n",
    "\n",
    "params = {\n",
    "        'Yxs': 0.09,  # mmol_glc/gDW  # calculated from 0.5 g/g\n",
    "        'Km_q_glc': 1,  # mmol/kg_bw\n",
    "        'q_max_glc': 3.89,  # mmol/(gDW h)  # calcuated for mu_max = 0.35 1/h\n",
    "        'bw': 1,  # kg  # broth weight\n",
    "        }\n",
    "\n",
    "mass_balances = {\n",
    "        'glc': {'v_glc': -1},\n",
    "        'dw': {'v_glc': params['Yxs']}\n",
    "        }\n",
    "\n",
    "init = [100, 0.2]"
   ]
  },
  {
   "cell_type": "markdown",
   "metadata": {},
   "source": [
    "## Basic case\n",
    "\n",
    "Integrating ODEs with all parameters substituted in the rate equations"
   ]
  },
  {
   "cell_type": "code",
   "execution_count": null,
   "metadata": {},
   "outputs": [],
   "source": [
    "S = build_stoichiometry_matrix(id_sp, id_rs, mass_balances)\n",
    "\n",
    "v_01 = create_rate_vector(id_sp, id_rs, rates, params)\n",
    "\n",
    "def odes_01(t, y):\n",
    "    return np.dot(S, v_01(y))\n",
    "\n",
    "sol_01 = solve_ivp(odes_01, [0, 9], init, method='LSODA', vectorized=True,\n",
    "        dense_output=True)\n",
    "\n",
    "vt_01 = np.array(v_01(sol_01.y)).T"
   ]
  },
  {
   "cell_type": "code",
   "execution_count": null,
   "metadata": {},
   "outputs": [],
   "source": [
    "fig, ax = plt.subplots(ncols=2, nrows=2, figsize=(10, 8))\n",
    "ax[0, 0].plot(sol_01.t, sol_01.y.T[:, 0])\n",
    "ax[0, 0].set_ylabel('Glucose (mmol)')\n",
    "ax[0, 1].plot(sol_01.t, sol_01.y.T[:, 1])\n",
    "ax[0, 1].set_ylabel('Dry weight (g)')\n",
    "ax[1, 0].plot(sol_01.t, vt_01[:, 0]/sol_01.y.T[:, 1])\n",
    "ax[1, 0].set_ylabel('q_glc [mmol / (gDW h)]')\n",
    "ax[1, 1].plot(sol_01.t, vt_01[:, 0] * params['Yxs']/sol_01.y.T[:, 1])\n",
    "ax[1, 1].set_ylabel('$\\mu\\,(h^{-1})$')\n",
    "ax[1, 0].set_xlabel('Time (h)')\n",
    "ax[1, 1].set_xlabel('Time (h)')\n",
    "fig.tight_layout();"
   ]
  },
  {
   "cell_type": "markdown",
   "metadata": {},
   "source": [
    "## Adding parameters as arguments"
   ]
  },
  {
   "cell_type": "code",
   "execution_count": null,
   "metadata": {},
   "outputs": [],
   "source": [
    "# Here substitute Yxs and q_max_glc by elements of a parameter vector p\n",
    "params_02 = params.copy()\n",
    "params_02['Yxs'] = 'p[0]'\n",
    "params_02['q_max_glc'] = 'p[1]'\n",
    "\n",
    "my_p = [0.1, 4.0]\n",
    "\n",
    "v_02 = create_rate_vector(id_sp, id_rs, rates, params_02, p_is_arg=True)\n",
    "\n",
    "def odes_02(t, y, p):\n",
    "    return np.dot(S, v_02(y, p))\n",
    "\n",
    "# Note. To pass arguments to solve_ivp, you need to use a lambda function. \n",
    "# You cannot pass arguments as a tuple as you could with the old odeint API\n",
    "sol_02 = solve_ivp(\n",
    "    lambda t, y: odes_02(t, y, my_p),\n",
    "    [0, 9], init, method='LSODA', vectorized=True\n",
    ")"
   ]
  },
  {
   "cell_type": "markdown",
   "metadata": {},
   "source": [
    "## Adding a function that depends on time\n",
    "\n",
    "Imagine the yield decreases as the fermentation proceeds. For example, as the cells grow, a by-product accumulates and inhibits the glucose transporter."
   ]
  },
  {
   "cell_type": "code",
   "execution_count": null,
   "metadata": {},
   "outputs": [],
   "source": [
    "k = np.log(0.8)/8\n",
    "f_qmax_t = lambda t: params['q_max_glc'] * np.exp(k * t)\n",
    "plt.plot(np.linspace(0, 9), f_qmax_t(np.linspace(0, 9)))\n",
    "plt.xlabel('Time (h)')\n",
    "plt.ylabel('q_max [mmol/(gDW h)')\n",
    "plt.ylim(0, 4);"
   ]
  },
  {
   "cell_type": "code",
   "execution_count": null,
   "metadata": {},
   "outputs": [],
   "source": [
    "params_03 = params.copy()\n",
    "params_03['q_max_glc'] = 'f_qmax_t(t)'"
   ]
  },
  {
   "cell_type": "code",
   "execution_count": null,
   "metadata": {},
   "outputs": [],
   "source": [
    "v_03 = create_rate_vector(id_sp, id_rs, rates, params_03,\n",
    "                          t_is_arg=True, eval_scope={'f_qmax_t': f_qmax_t})\n",
    "def odes_03(t, y):\n",
    "    return np.dot(S, v_03(y, t))\n",
    "\n",
    "sol_03 = solve_ivp(odes_03, [0, 9], init, method='LSODA', vectorized=True)"
   ]
  },
  {
   "cell_type": "code",
   "execution_count": null,
   "metadata": {},
   "outputs": [],
   "source": [
    "fig, ax = plt.subplots(ncols=2, figsize=(10, 4))\n",
    "ax[0].plot(sol_01.t, sol_01.y.T[:, 0])\n",
    "ax[0].plot(sol_03.t, sol_03.y.T[:, 0])\n",
    "ax[0].set_ylabel('Glucose (mmol)')\n",
    "ax[1].plot(sol_01.t, sol_01.y.T[:, 1])\n",
    "ax[1].plot(sol_03.t, sol_03.y.T[:, 1])\n",
    "ax[1].set_ylabel('Dry weight (g)')\n",
    "ax[0].set_xlabel('Time (h)')\n",
    "ax[1].set_xlabel('Time (h)')\n",
    "fig.tight_layout();"
   ]
  },
  {
   "cell_type": "code",
   "execution_count": null,
   "metadata": {},
   "outputs": [],
   "source": []
  }
 ],
 "metadata": {
  "kernelspec": {
   "display_name": "main (py36)",
   "language": "python",
   "name": "main"
  },
  "language_info": {
   "codemirror_mode": {
    "name": "ipython",
    "version": 3
   },
   "file_extension": ".py",
   "mimetype": "text/x-python",
   "name": "python",
   "nbconvert_exporter": "python",
   "pygments_lexer": "ipython3",
   "version": "3.6.8"
  }
 },
 "nbformat": 4,
 "nbformat_minor": 2
}
